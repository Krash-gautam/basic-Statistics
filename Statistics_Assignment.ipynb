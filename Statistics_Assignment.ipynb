{
  "nbformat": 4,
  "nbformat_minor": 0,
  "metadata": {
    "colab": {
      "provenance": []
    },
    "kernelspec": {
      "name": "python3",
      "display_name": "Python 3"
    },
    "language_info": {
      "name": "python"
    }
  },
  "cells": [
    {
      "cell_type": "markdown",
      "source": [
        "#STATISTICS ASSIGNMENT"
      ],
      "metadata": {
        "id": "rlYT8Bz1Mba-"
      }
    },
    {
      "cell_type": "markdown",
      "source": [
        "1. What is the difference between descriptive statistics and inferential statistics? Explain with examples."
      ],
      "metadata": {
        "id": "6Kbhl0zgMgDB"
      }
    },
    {
      "cell_type": "markdown",
      "source": [
        ">1.  **Descriptive Statistics** :-\n",
        "     Descriptive statistics summarize and describe the main features of a dataset. They provide a snapshot of the data without making predictions or generalizations.\n",
        ">  * Organize data (tables, charts, graphs)\n",
        ">  * Summarize data using:\n",
        ">  * Measures of central tendency (mean, median, mode)\n",
        ">  * Measures of dispersion (range, variance, standard deviation)\n",
        "\n",
        "  Example:-  \n",
        "  Imagine a teacher records the test scores of 30 students in a math exam:\n",
        ">    * Mean score: 75\n",
        ">    * Median score: 78\n",
        ">    * Standard deviation: 10\n",
        ">    * Range: 50 to 95\n",
        "\n",
        "  These numbers describe the performance of that specific group of students.\n",
        "\n",
        "\n",
        "\n",
        ">2. **Inferential Statistics** :-\n",
        "Inferential statistics use a sample of data to make generalizations or predictions about a larger population.\n",
        ">   * Estimate population parameters (e.g., population mean)\n",
        ">   * Hypothesis testing (e.g., t-tests, chi-square tests)\n",
        ">   * Confidence intervals\n",
        ">   * Regression analysis\n",
        "\n",
        "\n",
        "  EXAMPLE:-\n",
        "\n",
        "  A researcher surveys 100 voters (a sample) to estimate the percentage of all voters in a country who support a particular candidate.\n",
        ">    * Based on the sample, they might estimate that 60% of the population supports the candidate, with a margin of error ±4%.\n",
        ">    * This is not just describing the 100 people surveyed—it's inferring about the entire population."
      ],
      "metadata": {
        "id": "3ivb6ndXNva2"
      }
    },
    {
      "cell_type": "markdown",
      "source": [
        "2. What is sampling in statistics? Explain the differences between random\n",
        "and stratified sampling."
      ],
      "metadata": {
        "id": "TRGTbPm5TTSO"
      }
    },
    {
      "cell_type": "markdown",
      "source": [
        "> **Sampling** is the process of selecting a subset (sample) from a larger group (population) to analyze and make conclusions about the entire population. Since studying an entire population can be time-consuming, costly, or impractical, sampling allows researchers to gain insights efficiently and effectively.\n",
        "\n",
        "\n",
        ">   1. *Random Sampling*\n",
        "\n",
        ">  Every member of the population has an equal chance of being selected. The selection is purely by chance, and there is no grouping or categorization involved.\n",
        ">  * Reduces selection bias\n",
        ">  * Assumes population is homogeneous (similar)\n",
        ">  * Can be done using methods like lottery, random number generators\n",
        "\n",
        "  Example:-\n",
        "     \n",
        "  You want to survey 50 students from a school of 500. You assign each student a number and use a random number generator function to select 50 students.\n",
        "\n",
        "> 2. Stratified Sampling\n",
        "\n",
        ">   The population is divided into subgroups (strata) based on a shared characteristic (e.g., gender, age, income level), and random samples are taken from each subgroup proportionally.\n",
        ">   * Ensures representation of all key subgroups\n",
        ">   * Useful when the population is heterogeneous (diverse)\n",
        ">   * More accurate than simple random sampling in certain cases\n",
        "\n",
        "\n",
        "  Example:-\n",
        "\n",
        "  In a school of 500 students:\n",
        "\n",
        "  * 300 are girls, 200 are boys\n",
        "   * You want a sample of 50 students\n",
        "  * You divide the population into two strata: girls and boys\n",
        "  * Then randomly select 30 girls and 20 boys to maintain proportional representation"
      ],
      "metadata": {
        "id": "zD308z_2TLN2"
      }
    },
    {
      "cell_type": "markdown",
      "source": [
        "3.  Define mean, median, and mode. Explain why these measures of central\n",
        "tendency are important."
      ],
      "metadata": {
        "id": "iBnqBPrGaP4o"
      }
    },
    {
      "cell_type": "markdown",
      "source": [
        "> - **Mean (Arithmetic Average):**\n",
        ">   - **Definition**: The mean is calculated by summing all the values in a dataset and dividing by the total number of values.\n",
        ">   -  **Formula:** Mean = (Sum of all values) / (Number of values)\n",
        ">   - **Importance:** The mean is widely used because it takes into account every value in the dataset. It's a good representation of the \"average\" value when the data is symmetrically distributed and doesn't have extreme outliers.\n",
        "\n",
        "> - **Median:**\n",
        ">   - **Definition:** The median is the middle value in a dataset when the values are arranged in ascending or descending order. If there is an even number of values, the median is the average of the two middle values.\n",
        ">   - **Importance:** The median is particularly useful when dealing with skewed data or datasets that contain outliers. Unlike the mean, the median is not affected by extreme values, making it a better indicator of the typical value in such cases.\n",
        "\n",
        "> - **Mode:**\n",
        ">    - **Definition:** The mode is the value that appears most frequently in a dataset. A dataset can have one mode (unimodal), more than one mode (multimodal), or no mode at all.\n",
        ">    -   **Importance:** The mode is useful for identifying the most common category or value in a dataset, especially for categorical or discrete data.\n",
        "\n",
        "Why are these measures of central tendency important?\n",
        "\n",
        ">These measures are important because they provide a single, representative value that helps us understand the typical or central value of a dataset. They allow us to:\n",
        "\n",
        "> - *Summarize data*: Instead of looking at every single data point, we can use the mean, median, or mode to get a quick sense of the data's center.\n",
        "\n",
        "> - *Compare datasets*: We can compare the central tendency of different datasets to see how they differ.\n",
        "Identify patterns: They can help us identify patterns and trends in the data.\n",
        "\n",
        "> - *Make decisions:* Understanding the central tendency can inform decision-making in various fields, such as business, finance, and research."
      ],
      "metadata": {
        "id": "E1Id3OKoanZo"
      }
    },
    {
      "cell_type": "markdown",
      "source": [
        "4. Explain skewness and kurtosis. What does a positive skew imply about the\n",
        "data?\n"
      ],
      "metadata": {
        "id": "8dHRBotfNuT-"
      }
    },
    {
      "cell_type": "markdown",
      "metadata": {
        "id": "6df69c1f"
      },
      "source": [
        "> - **Skewness:**\n",
        ">   - **Definition:** Skewness measures the asymmetry of the probability distribution of a real-valued random variable about its mean. In simpler terms, it tells us if the data is concentrated more on one side of the mean than the other.\n",
        ">   - **Types:**\n",
        ">     - **Positive Skew (Right-Skewed):** The tail of the distribution is longer on the right side. The mean is typically greater than the median. This implies there are some extremely high values in the dataset that are pulling the mean to the right.\n",
        ">     - **Negative Skew (Left-Skewed):** The tail of the distribution is longer on the left side. The mean is typically less than the median. This implies there are some extremely low values in the dataset that are pulling the mean to the left.\n",
        ">     - **Zero Skew:** The distribution is symmetrical (like a normal distribution). The mean, median, and mode are all roughly equal.\n",
        "\n",
        "> - **Kurtosis:**\n",
        ">   - **Definition:** Kurtosis measures the \"tailedness\" of the probability distribution of a real-valued random variable. It describes how heavily the tails of a distribution differ from the tails of a normal distribution. In simpler terms, it tells us how many outliers are present.\n",
        ">   - **Types:**\n",
        ">     - **Mesokurtic:** Similar kurtosis to a normal distribution (kurtosis = 3, or excess kurtosis = 0).\n",
        ">     - **Leptokurtic:** Higher kurtosis than a normal distribution (excess kurtosis > 0). This means the distribution has fatter tails and a sharper peak than a normal distribution. It indicates a higher probability of extreme values (outliers).\n",
        ">     - **Platykurtic:** Lower kurtosis than a normal distribution (excess kurtosis < 0). This means the distribution has thinner tails and a flatter peak than a normal distribution. It indicates a lower probability of extreme values.\n",
        "\n",
        "> **What does a positive skew imply about the data?**\n",
        "\n",
        "> A positive skew implies that the data is concentrated more on the lower end, with a few extremely high values pulling the mean towards the right. In a positively skewed distribution, the mean is typically greater than the median. This often occurs in real-world data where there's a natural lower limit but no upper limit, such as income distribution (many people with lower incomes, a few with very high incomes) or reaction times (most people react quickly, a few take longer)."
      ]
    },
    {
      "cell_type": "markdown",
      "source": [
        "5. Implement a Python program to compute the mean, median, and mode of\n",
        "a given list of numbers.\n",
        "numbers = [12, 15, 12, 18, 19, 12, 20, 22, 19, 19, 24, 24, 24, 26, 28]"
      ],
      "metadata": {
        "id": "bJU2gyEMeZUy"
      }
    },
    {
      "cell_type": "code",
      "metadata": {
        "colab": {
          "base_uri": "https://localhost:8080/"
        },
        "id": "066d3a7b",
        "outputId": "e01969a5-7bca-486f-e1aa-efa787e66196"
      },
      "source": [
        "import statistics as sts\n",
        "\n",
        "numbers = [12, 15, 12, 18, 19, 12, 20, 22, 19, 19, 24, 24, 24, 26, 28]\n",
        "\n",
        "# Calculate the mean\n",
        "mean_value =sts.mean(numbers)\n",
        "\n",
        "# Calculate the median\n",
        "median_value = sts.median(numbers)\n",
        "\n",
        "# Calculate the mode\n",
        "mode_value = sts.mode(numbers)\n",
        "\n",
        "print(f\"Mean of the given list is : {mean_value}\")\n",
        "print(f\"Median of the given list is : {median_value}\")\n",
        "print(f\"Mode of the given list is : {mode_value}\")"
      ],
      "execution_count": 5,
      "outputs": [
        {
          "output_type": "stream",
          "name": "stdout",
          "text": [
            "Mean of the given list is : 19.6\n",
            "Median of the given list is : 19\n",
            "Mode of the given list is : 12\n"
          ]
        }
      ]
    },
    {
      "cell_type": "markdown",
      "source": [
        "6.  Compute the covariance and correlation coefficient between the following\n",
        "two datasets provided as lists in Python:\n",
        "\n",
        "list_x = [10, 20, 30, 40, 50]\n",
        "\n",
        "list_y = [15, 25, 35, 45, 60]"
      ],
      "metadata": {
        "id": "2-6ID0EWgaeS"
      }
    },
    {
      "cell_type": "code",
      "metadata": {
        "colab": {
          "base_uri": "https://localhost:8080/"
        },
        "id": "04a756f5",
        "outputId": "223492e7-a6eb-4dd6-9e7e-6c5cba45bba1"
      },
      "source": [
        "import numpy as np\n",
        "\n",
        "list_x = [10, 20, 30, 40, 50]\n",
        "list_y = [15, 25, 35, 45, 60]\n",
        "\n",
        "# Compute covariance\n",
        "covariance = np.cov(list_x, list_y)[0][1]\n",
        "\n",
        "# Compute correlation coefficient\n",
        "correlation_coefficient = np.corrcoef(list_x, list_y)[0][1]\n",
        "\n",
        "print(f\"Covariance between list_x and list_y: {covariance}\")\n",
        "print(f\"Correlation coefficient between list_x and list_y: {correlation_coefficient}\")"
      ],
      "execution_count": 6,
      "outputs": [
        {
          "output_type": "stream",
          "name": "stdout",
          "text": [
            "Covariance between list_x and list_y: 275.0\n",
            "Correlation coefficient between list_x and list_y: 0.995893206467704\n"
          ]
        }
      ]
    },
    {
      "cell_type": "markdown",
      "source": [
        "7. Write a Python script to draw a boxplot for the following numeric list and\n",
        "identify its outliers. Explain the result:\n",
        "\n",
        "data = [12, 14, 14, 15, 18, 19, 19, 21, 22, 22, 23, 23, 24, 26, 29, 35]"
      ],
      "metadata": {
        "id": "tJ8nqL15hw4b"
      }
    },
    {
      "cell_type": "code",
      "source": [
        "import matplotlib.pyplot as plt\n",
        "\n",
        "# Given data\n",
        "data= [12,14,14,15,18,19,19,21,22,22,23,24,26,29,35]\n",
        "\n",
        "plt.boxplot(data, patch_artist=True)\n",
        "plt.title('Boxplot of Data')\n",
        "plt.ylabel('Values')\n",
        "plt.show()\n"
      ],
      "metadata": {
        "colab": {
          "base_uri": "https://localhost:8080/",
          "height": 452
        },
        "id": "zIORFngWh3qO",
        "outputId": "5f8044bf-b229-495d-f119-8476cf412039"
      },
      "execution_count": 14,
      "outputs": [
        {
          "output_type": "display_data",
          "data": {
            "text/plain": [
              "<Figure size 640x480 with 1 Axes>"
            ],
            "image/png": "[encoded data removed]"
          },
          "metadata": {}
        }
      ]
    },
    {
      "cell_type": "markdown",
      "metadata": {
        "id": "5035eeb8"
      },
      "source": [
        "**Explanation of the Boxplot and Outlier Identification:**\n",
        "\n",
        "A boxplot visually represents the distribution of data and helps identify potential outliers. Here's how to interpret it:\n",
        "\n",
        "*   **Box:** The box represents the interquartile range (IQR), which is the range between the first quartile (Q1) and the third quartile (Q3). 50% of the data falls within this box.\n",
        "*   **Median Line:** The line inside the box is the median (Q2), which is the middle value of the dataset.\n",
        "*   **Whiskers:** The lines extending from the box are called whiskers. They typically extend to the minimum and maximum values within 1.5 times the IQR from the edges of the box.\n",
        "*   **Outliers:** Data points that fall outside the whiskers are considered potential outliers. These are often represented as individual points or markers on the plot.\n",
        "\n",
        "In the generated boxplot for the given data:\n",
        "\n",
        "*   Observe any points that are plotted individually outside the whiskers. These points are the identified outliers.\n",
        "\n",
        "To be more precise in identifying outliers programmatically, you can calculate the IQR and the upper and lower bounds:\n",
        "\n",
        "*   **IQR = Q3 - Q1**\n",
        "*   **Lower Bound = Q1 - 1.5 * IQR**\n",
        "*   **Upper Bound = Q3 + 1.5 * IQR**\n",
        "\n",
        "Any data point less than the Lower Bound or greater than the Upper Bound is considered an outlier."
      ]
    },
    {
      "cell_type": "markdown",
      "source": [
        "8. You are working as a data analyst in an e-commerce company. The\n",
        "marketing team wants to know if there is a relationship between advertising spend and\n",
        "daily sales.\n",
        "- Explain how you would use covariance and correlation to explore this\n",
        "relationship.\n",
        "- Write Python code to compute the correlation between the two lists:\n",
        "\n",
        "advertising_spend = [200, 250, 300, 400, 500]\n",
        "\n",
        "daily_sales = [2200, 2450, 2750, 3200, 4000]"
      ],
      "metadata": {
        "id": "N3VDgQmWkKOl"
      }
    },
    {
      "cell_type": "markdown",
      "metadata": {
        "id": "50c382ce"
      },
      "source": [
        "> **Explanation of the Relationship:**\n",
        "\n",
        ">We computed the correlation coefficient between `advertising_spend` and `daily_sales` to be approximately **0.994**.\n",
        ">*   **Positive Correlation:** The correlation coefficient is positive, which indicates a positive linear relationship between advertising spend and daily sales. This means that as advertising spend increases, daily sales tend to increase as well.\n",
        ">*   **Strong Correlation:** The value of the correlation coefficient (0.994) is very close to +1. This suggests a very strong positive linear relationship. The data points tend to fall very close to a straight line with a positive slope when plotted on a scatter plot.\n",
        "\n",
        "In the context of the e-commerce company, this strong positive correlation suggests that increasing the advertising spend is highly associated with an increase in daily sales. This finding supports the marketing team's belief that there is a relationship between advertising efforts and sales performance."
      ]
    },
    {
      "cell_type": "code",
      "metadata": {
        "colab": {
          "base_uri": "https://localhost:8080/"
        },
        "id": "ea766867",
        "outputId": "fba30907-07ad-4fec-905e-46920a678cb6"
      },
      "source": [
        "import numpy as np\n",
        "\n",
        "advertising_spend = [200, 250, 300, 400, 500]\n",
        "daily_sales = [2200, 2450, 2750, 3200, 4000]\n",
        "\n",
        "# Compute correlation coefficient\n",
        "correlation_coefficient = np.corrcoef(advertising_spend, daily_sales)[0][1]\n",
        "\n",
        "print(f\"Correlation coefficient between advertising spend and daily sales: {correlation_coefficient}\")"
      ],
      "execution_count": 15,
      "outputs": [
        {
          "output_type": "stream",
          "name": "stdout",
          "text": [
            "Correlation coefficient between advertising spend and daily sales: 0.9935824101653329\n"
          ]
        }
      ]
    },
    {
      "cell_type": "markdown",
      "source": [
        "9. Your team has collected customer satisfaction survey data on a scale of\n",
        "1-10 and wants to understand its distribution before launching a new product.\n",
        "- Explain which summary statistics and visualizations (e.g. mean, standard\n",
        "deviation, histogram) you’d use.\n",
        "- Write Python code to create a histogram using Matplotlib for the survey data:\n",
        "\n",
        "survey_scores = [7, 8, 5, 9, 6, 7, 8, 9, 10, 4, 7, 6, 9, 8, 7]"
      ],
      "metadata": {
        "id": "NW8BlOstlkXW"
      }
    },
    {
      "cell_type": "markdown",
      "metadata": {
        "id": "c9cb54dc"
      },
      "source": [
        "**Analyzing Customer Satisfaction Survey Data**\n",
        "\n",
        "To understand the distribution of customer satisfaction survey data on a scale of 1-10, you would use a combination of summary statistics and visualizations.\n",
        "\n",
        "**Summary Statistics:**\n",
        "\n",
        "*   **Mean:** The average satisfaction score. This gives you a single number representing the typical satisfaction level.\n",
        "*   **Median:** The middle satisfaction score when the data is ordered. The median is less affected by extreme scores than the mean, making it useful for skewed data.\n",
        "*   **Mode:** The most frequent satisfaction score. This tells you which score was given by the largest number of customers.\n",
        "*   **Standard Deviation:** A measure of the spread or variability of the satisfaction scores around the mean. A smaller standard deviation indicates scores are clustered closer to the mean, while a larger standard deviation indicates scores are more spread out.\n",
        "*   **Minimum and Maximum:** The lowest and highest satisfaction scores. These give you the range of responses.\n",
        "\n",
        "**Visualizations:**\n",
        "\n",
        "*   **Histogram:** A histogram is an excellent visualization for understanding the distribution of numerical data. It shows the frequency of each score (or range of scores) and helps you see the shape of the distribution (e.g., symmetrical, skewed, bimodal).\n",
        "\n",
        "By using these summary statistics and a histogram, you can get a good understanding of how satisfied your customers are, the range of their responses, and whether there are any patterns or clusters in the data."
      ]
    },
    {
      "cell_type": "code",
      "metadata": {
        "colab": {
          "base_uri": "https://localhost:8080/",
          "height": 564
        },
        "id": "5649931c",
        "outputId": "a647abf0-77cf-488f-9710-35acfaf9ace8"
      },
      "source": [
        "import matplotlib.pyplot as plt\n",
        "\n",
        "survey_scores = [7, 8, 5, 9, 6, 7, 8, 9, 10, 4, 7, 6, 9, 8, 7]\n",
        "\n",
        "plt.figure(figsize=(8, 6))\n",
        "plt.hist(survey_scores, bins=range(4, 12), align='left', rwidth=0.8)\n",
        "plt.title('Distribution of Customer Satisfaction Scores')\n",
        "plt.xlabel('Satisfaction Score (1-10)')\n",
        "plt.ylabel('Frequency')\n",
        "plt.xticks(range(4, 11))\n",
        "plt.grid(axis='y', alpha=0.75)\n",
        "plt.show()"
      ],
      "execution_count": 16,
      "outputs": [
        {
          "output_type": "display_data",
          "data": {
            "text/plain": [
              "<Figure size 800x600 with 1 Axes>"
            ],
            "image/png": "[encoded data removed]"
          },
          "metadata": {}
        }
      ]
    }
  ]
}